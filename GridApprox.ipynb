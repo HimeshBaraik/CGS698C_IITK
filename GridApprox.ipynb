{
  "nbformat": 4,
  "nbformat_minor": 0,
  "metadata": {
    "colab": {
      "provenance": []
    },
    "kernelspec": {
      "name": "ir",
      "display_name": "R"
    },
    "language_info": {
      "name": "R"
    }
  },
  "cells": [
    {
      "cell_type": "code",
      "execution_count": null,
      "metadata": {
        "id": "rQsQVyUk9U3j"
      },
      "outputs": [],
      "source": [
        "# Assuming, true parameter value\n",
        "y <- rnorm(10,1,2)"
      ]
    },
    {
      "cell_type": "code",
      "source": [
        "# Observed Data\n",
        "y"
      ],
      "metadata": {
        "colab": {
          "base_uri": "https://localhost:8080/",
          "height": 52
        },
        "id": "2zs4YocjAxS5",
        "outputId": "7c5fc53e-23c5-4e58-8321-ede47d037f00"
      },
      "execution_count": null,
      "outputs": [
        {
          "output_type": "display_data",
          "data": {
            "text/html": [
              "<style>\n",
              ".list-inline {list-style: none; margin:0; padding: 0}\n",
              ".list-inline>li {display: inline-block}\n",
              ".list-inline>li:not(:last-child)::after {content: \"\\00b7\"; padding: 0 .5ex}\n",
              "</style>\n",
              "<ol class=list-inline><li>1.94955031405704</li><li>3.71205684477175</li><li>2.43633501378605</li><li>-0.0950700958593478</li><li>1.63744154599294</li><li>0.0788643822595847</li><li>0.904108943965912</li><li>1.87152595362367</li><li>1.55527157512095</li><li>2.54349798451921</li></ol>\n"
            ],
            "text/markdown": "1. 1.94955031405704\n2. 3.71205684477175\n3. 2.43633501378605\n4. -0.0950700958593478\n5. 1.63744154599294\n6. 0.0788643822595847\n7. 0.904108943965912\n8. 1.87152595362367\n9. 1.55527157512095\n10. 2.54349798451921\n\n\n",
            "text/latex": "\\begin{enumerate*}\n\\item 1.94955031405704\n\\item 3.71205684477175\n\\item 2.43633501378605\n\\item -0.0950700958593478\n\\item 1.63744154599294\n\\item 0.0788643822595847\n\\item 0.904108943965912\n\\item 1.87152595362367\n\\item 1.55527157512095\n\\item 2.54349798451921\n\\end{enumerate*}\n",
            "text/plain": [
              " [1]  1.94955031  3.71205684  2.43633501 -0.09507010  1.63744155  0.07886438\n",
              " [7]  0.90410894  1.87152595  1.55527158  2.54349798"
            ]
          },
          "metadata": {}
        }
      ]
    },
    {
      "cell_type": "code",
      "source": [
        "######################\n",
        "# Analytical posterior\n",
        "######################\n",
        "\n",
        "sigma = 2 # Known standard devation of normal distribution\n",
        "mu_prior = 0 # Mean of prior distribution on mu\n",
        "sigma_prior = 3 # Standard deviation of prior distribution on mu\n",
        "n = 10 # no. of observations\n",
        "analytical_mu_post <- rnorm(10000,\n",
        "mean=(((sigma^2)*(mu_prior))+\n",
        "((sigma_prior^2)*sum(y)))/\n",
        "(sigma^2 + (n*(sigma_prior^2))),\n",
        "sd=(1/(sigma_prior^2))+(n/(sigma^2)))\n",
        "hist(analytical_mu_post,freq = FALSE)"
      ],
      "metadata": {
        "colab": {
          "base_uri": "https://localhost:8080/",
          "height": 437
        },
        "id": "oRsjJWfcA0MN",
        "outputId": "a12da3b5-710d-49f3-d1a5-c7db9121af07"
      },
      "execution_count": null,
      "outputs": [
        {
          "output_type": "display_data",
          "data": {
            "text/plain": [
              "Plot with title “Histogram of analytical_mu_post”"
            ],
            "image/png": "[encoded data removed]"
          },
          "metadata": {
            "image/png": {
              "width": 420,
              "height": 420
            }
          }
        }
      ]
    },
    {
      "cell_type": "code",
      "source": [
        "########################\n",
        "# Grid approximation\n",
        "########################"
      ],
      "metadata": {
        "id": "9aZRHbFSBBWK"
      },
      "execution_count": null,
      "outputs": []
    },
    {
      "cell_type": "code",
      "source": [
        "# Set up a sequence of grid points for mu\n",
        "mu_grid <- seq(-10, 10, length=1000)"
      ],
      "metadata": {
        "id": "PT-AD9CrBvWz"
      },
      "execution_count": null,
      "outputs": []
    },
    {
      "cell_type": "code",
      "source": [
        "# Initialize a dataframe to store mu, likelihood, prior, and posterior\n",
        "df.posterior <- data.frame(matrix(ncol=3, nrow=length(mu_grid)))\n",
        "colnames(df.posterior) <- c(\"mu\", \"likelihood\", \"prior\")\n"
      ],
      "metadata": {
        "id": "v4AJKnYBB5rj"
      },
      "execution_count": null,
      "outputs": []
    },
    {
      "cell_type": "code",
      "source": [
        "# Loop over each grid point to calculate the likelihood and prior\n",
        "for(i in 1:length(mu_grid)) {\n",
        "    # Calculate the likelihood at the ith grid point\n",
        "    likelihood <- prod(dnorm(y, mu_grid[i], 2))\n",
        "\n",
        "    # Calculate the prior at the ith grid point\n",
        "    prior <- dnorm(mu_grid[i], 0, 3)\n",
        "\n",
        "    # Store the mu, likelihood, and prior values in the dataframe\n",
        "    df.posterior[i, ] <- c(mu_grid[i], likelihood, prior)\n",
        "}"
      ],
      "metadata": {
        "id": "_2OjXWJsCEpp"
      },
      "execution_count": null,
      "outputs": []
    },
    {
      "cell_type": "code",
      "source": [
        "# Approximate the marginal likelihood (ML) by summing over all grid points\n",
        "ML <- sum(df.posterior$likelihood * df.posterior$prior)"
      ],
      "metadata": {
        "id": "HOkRGWb_CTYB"
      },
      "execution_count": null,
      "outputs": []
    },
    {
      "cell_type": "code",
      "source": [
        "# Initialize a column for the posterior\n",
        "df.posterior$posterior <- numeric(length(mu_grid))"
      ],
      "metadata": {
        "id": "v9jnwc2iCXAT"
      },
      "execution_count": null,
      "outputs": []
    },
    {
      "cell_type": "code",
      "source": [
        "# Calculate the posterior density at each grid point\n",
        "for(i in 1:length(mu_grid)) {\n",
        "    df.posterior$posterior[i] <- df.posterior$likelihood[i] * df.posterior$prior[i] / ML\n",
        "}"
      ],
      "metadata": {
        "id": "SKdqfAJB4adO"
      },
      "execution_count": null,
      "outputs": []
    },
    {
      "cell_type": "code",
      "source": [
        "# Plot the posterior density against mu\n",
        "plot(df.posterior$mu, df.posterior$posterior, type=\"l\",\n",
        "     main=\"Posterior Density\", xlab=\"mu\", ylab=\"Posterior\")"
      ],
      "metadata": {
        "colab": {
          "base_uri": "https://localhost:8080/",
          "height": 437
        },
        "id": "YLSzTdv-4c4H",
        "outputId": "a60fc056-2c7c-4de7-b4db-9f8ef2c4a9ff"
      },
      "execution_count": null,
      "outputs": [
        {
          "output_type": "display_data",
          "data": {
            "text/plain": [
              "Plot with title “Posterior Density”"
            ],
            "image/png": "[encoded data removed]"
          },
          "metadata": {
            "image/png": {
              "width": 420,
              "height": 420
            }
          }
        }
      ]
    },
    {
      "cell_type": "code",
      "source": [],
      "metadata": {
        "id": "d9vY0KGY4eoi"
      },
      "execution_count": null,
      "outputs": []
    }
  ]
}